{
 "cells": [
  {
   "cell_type": "code",
   "execution_count": 4,
   "metadata": {},
   "outputs": [],
   "source": [
    "%matplotlib inline\n",
    "import matplotlib.pyplot as plt\n",
    "import seaborn as sns\n",
    "import numpy as np\n",
    "import os, sys\n",
    "import time\n",
    "import torch"
   ]
  },
  {
   "cell_type": "code",
   "execution_count": 5,
   "metadata": {},
   "outputs": [],
   "source": [
    "sys.path.append(\"../\")\n",
    "from randman import NumpyRandman, TorchRandman, JaxRandman"
   ]
  },
  {
   "cell_type": "code",
   "execution_count": 6,
   "metadata": {
    "scrolled": false
   },
   "outputs": [
    {
     "name": "stdout",
     "output_type": "stream",
     "text": [
      "100\n",
      "NumPy: 1.911916s\n",
      "Torch: 11.328279s\n",
      "GPU: 19.100632s\n",
      "Jax: 0.837230s\n",
      "1000\n",
      "NumPy: 2.899556s\n",
      "Torch: 11.833035s\n",
      "GPU: 18.965090s\n",
      "Jax: 0.498703s\n",
      "10000\n",
      "NumPy: 11.075665s\n",
      "Torch: 16.355498s\n",
      "GPU: 19.122219s\n",
      "Jax: 0.748565s\n",
      "100000\n",
      "NumPy: 170.821607s\n",
      "Torch: 83.281230s\n",
      "GPU: 19.216339s\n",
      "Jax: 4.499739s\n",
      "1000000\n",
      "NumPy: 2850.005519s\n",
      "Torch: 469.747216s\n",
      "GPU: 88.796489s\n",
      "Jax: 101.508937s\n"
     ]
    }
   ],
   "source": [
    "res = []\n",
    "for nb_samp in [1e2, 1e3, 1e4, 1e5, 1e6]:\n",
    "    nb_samp = int(nb_samp)\n",
    "    print(nb_samp)\n",
    "    \n",
    "    rm = NumpyRandman(1000,10)\n",
    "    t0 = time.time()\n",
    "    x,y = rm.get_random_manifold_samples(nb_samp)\n",
    "    r_numpy = time.time()-t0\n",
    "    print(\"NumPy: %fs\"%(r_numpy))\n",
    "    \n",
    "    rm = TorchRandman(1000,10)\n",
    "    t0 = time.time()\n",
    "    x,y = rm.get_random_manifold_samples(nb_samp)\n",
    "    r_torch = time.time()-t0\n",
    "    print(\"Torch: %fs\"%(r_torch))\n",
    "\n",
    "    device=torch.device(\"cuda:1\") # use the second GPU to avoid memory conflict with Jax\n",
    "    rm = TorchRandman(1000,10,device=device)\n",
    "    t0 = time.time()\n",
    "    x,y = rm.get_random_manifold_samples(nb_samp)\n",
    "    r_gpu = time.time()-t0\n",
    "    print(\"GPU: %fs\"%(r_gpu))\n",
    "    \n",
    "    rm = JaxRandman(1000,10)\n",
    "    t0 = time.time()\n",
    "    x,y = rm.get_random_manifold_samples(nb_samp)\n",
    "    r_jax = time.time()-t0\n",
    "    print(\"Jax: %fs\"%(r_jax))\n",
    "    \n",
    "    res.append((nb_samp, r_numpy, r_torch, r_gpu, r_jax))"
   ]
  },
  {
   "cell_type": "code",
   "execution_count": 7,
   "metadata": {},
   "outputs": [
    {
     "data": {
      "image/png": "[encoded data removed]",
      "text/plain": [
       "<Figure size 432x288 with 1 Axes>"
      ]
     },
     "metadata": {
      "needs_background": "light"
     },
     "output_type": "display_data"
    }
   ],
   "source": [
    "dat=np.array(res)\n",
    "plt.plot(dat[:,0],dat[:,1:])\n",
    "plt.legend(labels=[\"Numpy\", \"Torch CPU\", \"Torch GPU\", \"Jax GPU\"])\n",
    "plt.xlabel(\"Num. datapoints\")\n",
    "plt.ylabel(\"Wall clock time (s)\")\n",
    "plt.loglog()\n",
    "sns.despine()"
   ]
  },
  {
   "cell_type": "code",
   "execution_count": null,
   "metadata": {},
   "outputs": [],
   "source": []
  },
  {
   "cell_type": "code",
   "execution_count": null,
   "metadata": {},
   "outputs": [],
   "source": []
  },
  {
   "cell_type": "code",
   "execution_count": null,
   "metadata": {},
   "outputs": [],
   "source": []
  },
  {
   "cell_type": "code",
   "execution_count": null,
   "metadata": {},
   "outputs": [],
   "source": []
  }
 ],
 "metadata": {
  "kernelspec": {
   "display_name": "Python 3 (ipykernel)",
   "language": "python",
   "name": "python3"
  },
  "language_info": {
   "codemirror_mode": {
    "name": "ipython",
    "version": 3
   },
   "file_extension": ".py",
   "mimetype": "text/x-python",
   "name": "python",
   "nbconvert_exporter": "python",
   "pygments_lexer": "ipython3",
   "version": "3.8.10"
  }
 },
 "nbformat": 4,
 "nbformat_minor": 2
}
